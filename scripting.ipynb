{
 "cells": [
  {
   "cell_type": "code",
   "execution_count": 1,
   "metadata": {},
   "outputs": [
    {
     "data": {
      "text/plain": [
       "{'name': 'alfredo', 'lastname': 'Dzeda'}"
      ]
     },
     "execution_count": 1,
     "metadata": {},
     "output_type": "execute_result"
    }
   ],
   "source": [
    "#storing and retrieving data using dictionaries\n",
    "contacts= {\"name\":\"alfredo\", \"lastname\":\"Dzeda\"} \n",
    "contacts"
   ]
  },
  {
   "cell_type": "code",
   "execution_count": 5,
   "metadata": {},
   "outputs": [
    {
     "data": {
      "text/plain": [
       "'Dzeda'"
      ]
     },
     "execution_count": 5,
     "metadata": {},
     "output_type": "execute_result"
    }
   ],
   "source": [
    "contacts[\"lastname\"]"
   ]
  },
  {
   "cell_type": "code",
   "execution_count": 10,
   "metadata": {},
   "outputs": [
    {
     "data": {
      "text/plain": [
       "'000-000'"
      ]
     },
     "execution_count": 10,
     "metadata": {},
     "output_type": "execute_result"
    }
   ],
   "source": [
    "contacts.get(\"phone\", None) #.get method is used to retrieve values that are not originally in the dictionary.\n"
   ]
  },
  {
   "cell_type": "code",
   "execution_count": 11,
   "metadata": {},
   "outputs": [
    {
     "data": {
      "text/plain": [
       "'000-000'"
      ]
     },
     "execution_count": 11,
     "metadata": {},
     "output_type": "execute_result"
    }
   ],
   "source": [
    "contacts.get(\"phone\",\"000-000\")"
   ]
  },
  {
   "cell_type": "code",
   "execution_count": 12,
   "metadata": {},
   "outputs": [
    {
     "data": {
      "text/plain": [
       "'unknown'"
      ]
     },
     "execution_count": 12,
     "metadata": {},
     "output_type": "execute_result"
    }
   ],
   "source": [
    "contacts.get(\"phone\",\"unknown\")"
   ]
  },
  {
   "cell_type": "code",
   "execution_count": 13,
   "metadata": {},
   "outputs": [
    {
     "data": {
      "text/plain": [
       "dict_keys(['name', 'lastname'])"
      ]
     },
     "execution_count": 13,
     "metadata": {},
     "output_type": "execute_result"
    }
   ],
   "source": [
    "contacts.keys() #.keys method is used to get information on the dict"
   ]
  },
  {
   "cell_type": "code",
   "execution_count": 15,
   "metadata": {},
   "outputs": [
    {
     "data": {
      "text/plain": [
       "dict_values(['alfredo', 'Dzeda'])"
      ]
     },
     "execution_count": 15,
     "metadata": {},
     "output_type": "execute_result"
    }
   ],
   "source": [
    "contacts.values()"
   ]
  },
  {
   "cell_type": "code",
   "execution_count": 18,
   "metadata": {},
   "outputs": [],
   "source": [
    "contacts[\"phone\"]=\"670-000-11\" #if we want to add something to the dict"
   ]
  },
  {
   "cell_type": "code",
   "execution_count": 19,
   "metadata": {},
   "outputs": [
    {
     "data": {
      "text/plain": [
       "{'name': 'alfredo', 'lastname': 'Dzeda', 'phone': '670-000-11'}"
      ]
     },
     "execution_count": 19,
     "metadata": {},
     "output_type": "execute_result"
    }
   ],
   "source": [
    "contacts"
   ]
  },
  {
   "cell_type": "code",
   "execution_count": 28,
   "metadata": {},
   "outputs": [
    {
     "data": {
      "text/plain": [
       "set"
      ]
     },
     "execution_count": 28,
     "metadata": {},
     "output_type": "execute_result"
    }
   ],
   "source": [
    "unique={1,2,3,4,5} #less common data structure #set\n",
    "type (unique)"
   ]
  },
  {
   "cell_type": "code",
   "execution_count": 27,
   "metadata": {},
   "outputs": [
    {
     "data": {
      "text/plain": [
       "{1, 2, 3, 4, 5, 7}"
      ]
     },
     "execution_count": 27,
     "metadata": {},
     "output_type": "execute_result"
    }
   ],
   "source": [
    "unique.add(7)\n",
    "unique"
   ]
  },
  {
   "cell_type": "code",
   "execution_count": 29,
   "metadata": {},
   "outputs": [],
   "source": [
    "items = [\"Downloads\", \"Documents\"]"
   ]
  },
  {
   "cell_type": "code",
   "execution_count": 33,
   "metadata": {},
   "outputs": [
    {
     "data": {
      "text/plain": [
       "'Documents'"
      ]
     },
     "execution_count": 33,
     "metadata": {},
     "output_type": "execute_result"
    }
   ],
   "source": [
    "items[-1]"
   ]
  },
  {
   "cell_type": "code",
   "execution_count": 36,
   "metadata": {},
   "outputs": [
    {
     "name": "stdout",
     "output_type": "stream",
     "text": [
      "Alfredo\n",
      "Kenedy\n"
     ]
    }
   ],
   "source": [
    "#Iteration with data structures\n",
    "#1 Iteration with list\n",
    "names=[\"Alfredo\", \"Noah\",\"Kenedy\", \"Jim\"]\n",
    "for name in names:\n",
    "    if len(name)>5:\n",
    "        print(name)"
   ]
  },
  {
   "cell_type": "code",
   "execution_count": 38,
   "metadata": {},
   "outputs": [],
   "source": [
    "#concise way to write the code above\n",
    "long_name=[name for name in names if len(name)>5]"
   ]
  },
  {
   "cell_type": "code",
   "execution_count": 39,
   "metadata": {},
   "outputs": [
    {
     "data": {
      "text/plain": [
       "['Alfredo', 'Kenedy']"
      ]
     },
     "execution_count": 39,
     "metadata": {},
     "output_type": "execute_result"
    }
   ],
   "source": [
    "long_name"
   ]
  },
  {
   "cell_type": "code",
   "execution_count": 40,
   "metadata": {},
   "outputs": [],
   "source": [
    "#2 iterating over dictionaries\n",
    "contacts={\"Alfredo\":\"alfredo@gmail.com\", \"Kenedy\":\"Kenedy@gmail.com\", \"Noah\":\"Noah@gmail.com\"}"
   ]
  },
  {
   "cell_type": "code",
   "execution_count": 42,
   "metadata": {},
   "outputs": [
    {
     "data": {
      "text/plain": [
       "'alfredo@gmail.com'"
      ]
     },
     "execution_count": 42,
     "metadata": {},
     "output_type": "execute_result"
    }
   ],
   "source": [
    "contacts.get(\"Alfredo\")"
   ]
  },
  {
   "cell_type": "code",
   "execution_count": 43,
   "metadata": {},
   "outputs": [
    {
     "data": {
      "text/plain": [
       "'alfredo@gmail.com'"
      ]
     },
     "execution_count": 43,
     "metadata": {},
     "output_type": "execute_result"
    }
   ],
   "source": [
    "contacts[\"Alfredo\"]"
   ]
  },
  {
   "cell_type": "code",
   "execution_count": 48,
   "metadata": {},
   "outputs": [
    {
     "name": "stdout",
     "output_type": "stream",
     "text": [
      "Alfredo\n",
      "Kenedy\n",
      "Noah\n"
     ]
    }
   ],
   "source": [
    "for contact in contacts:\n",
    "    print(contact)"
   ]
  },
  {
   "cell_type": "code",
   "execution_count": 49,
   "metadata": {},
   "outputs": [
    {
     "name": "stdout",
     "output_type": "stream",
     "text": [
      "alfredo@gmail.com\n",
      "Kenedy@gmail.com\n",
      "Noah@gmail.com\n"
     ]
    }
   ],
   "source": [
    "for contact in contacts.values():\n",
    "    print(contact)"
   ]
  },
  {
   "cell_type": "code",
   "execution_count": 51,
   "metadata": {},
   "outputs": [
    {
     "name": "stdout",
     "output_type": "stream",
     "text": [
      "Alfredo alfredo@gmail.com\n",
      "Kenedy Kenedy@gmail.com\n",
      "Noah Noah@gmail.com\n"
     ]
    }
   ],
   "source": [
    "for name, email in contacts.items(): #we can use two variables for the for loop\n",
    "    print(name,email)"
   ]
  },
  {
   "cell_type": "code",
   "execution_count": 57,
   "metadata": {},
   "outputs": [],
   "source": [
    "read_only=(1,2,3,4)\n",
    "unique ={1,1,1,2,2,3} "
   ]
  },
  {
   "cell_type": "code",
   "execution_count": 53,
   "metadata": {},
   "outputs": [
    {
     "name": "stdout",
     "output_type": "stream",
     "text": [
      "1\n",
      "2\n",
      "3\n",
      "4\n"
     ]
    }
   ],
   "source": [
    "for ro in read_only:\n",
    "    print(ro)"
   ]
  },
  {
   "cell_type": "code",
   "execution_count": 56,
   "metadata": {},
   "outputs": [
    {
     "name": "stdout",
     "output_type": "stream",
     "text": [
      "1\n",
      "2\n",
      "3\n"
     ]
    }
   ],
   "source": [
    "for item in unique: #this results comes because its a set and 1 is repeated, 2 is repeated\n",
    "    print(item)"
   ]
  },
  {
   "cell_type": "code",
   "execution_count": 4,
   "metadata": {},
   "outputs": [],
   "source": [
    "#storing data within data structures\n",
    "import os\n",
    "home_items=os.listdir(\"/home/braimah\")"
   ]
  },
  {
   "cell_type": "code",
   "execution_count": 2,
   "metadata": {},
   "outputs": [
    {
     "data": {
      "text/plain": [
       "['Linkedin_Profile.pdf',\n",
       " 'differentials.ipynb',\n",
       " 'middle_1.png~',\n",
       " '1861130.pdf',\n",
       " 'Untitled.ipynb',\n",
       " '.~lock.Accra.csv#',\n",
       " 'midle_2.png~',\n",
       " 'Gmail - Appointment Confirmation.pdf',\n",
       " 'mid_4.png~',\n",
       " 'ec_2.png~',\n",
       " '.~lock.synop.odt#',\n",
       " 'Geology_Fall_2022.pdf',\n",
       " '.~lock.itb2092020.xlsx#',\n",
       " 'transition_2.png~',\n",
       " 'test.db',\n",
       " 'transition_1.png~',\n",
       " 'Braimah_Registered_Courses.pdf',\n",
       " 'wc_2.png~',\n",
       " 'mohammed_I901_payment_coupon_07252022.PDF',\n",
       " '.~lock.modelwind.odg#',\n",
       " '.ipynb_checkpoints',\n",
       " 'mid_3.png~',\n",
       " 'ec_1.png~',\n",
       " 'numpy, pandas&sql.ipynb',\n",
       " 'ee.ipynb',\n",
       " 'scripting.ipynb',\n",
       " '.~lock.wenchi.csv#',\n",
       " 'PYTHON_PROGRAMMING',\n",
       " 'Programming_Books',\n",
       " 'Letter.pdf',\n",
       " 'wc1.png~',\n",
       " 'Recent Files',\n",
       " '.~lock.flood.pdf.docx#',\n",
       " 'color_code.png~',\n",
       " 'visa_documents',\n",
       " '.~lock.TECH 6 - Mohammed_Braimah.pdf#']"
      ]
     },
     "execution_count": 2,
     "metadata": {},
     "output_type": "execute_result"
    }
   ],
   "source": [
    "os.listdir('.')"
   ]
  },
  {
   "cell_type": "code",
   "execution_count": null,
   "metadata": {},
   "outputs": [],
   "source": []
  },
  {
   "cell_type": "code",
   "execution_count": 10,
   "metadata": {},
   "outputs": [
    {
     "data": {
      "text/plain": [
       "'{\"name\": \"Alfredo\", \"data\": [], \"valid\": true}'"
      ]
     },
     "execution_count": 10,
     "metadata": {},
     "output_type": "execute_result"
    }
   ],
   "source": [
    "#json data structures are similar to that of python\n",
    "import json #converting python to json \n",
    "data ={\"name\":\"Alfredo\", \"data\":[], \"valid\":True}\n",
    "json.dumps(data) #dumps means dump object data into a string #for example we can see the True has changed to true as a string"
   ]
  },
  {
   "cell_type": "code",
   "execution_count": null,
   "metadata": {},
   "outputs": [],
   "source": [
    "#loading data into python #this program opens the file, and read between lines\n",
    "sql_file=open(\"populate.sql\") #data is not on my computer\n",
    "sql_contents=sql_file.readlines()\n",
    "sql_file.close()"
   ]
  },
  {
   "cell_type": "code",
   "execution_count": null,
   "metadata": {},
   "outputs": [],
   "source": [
    "#the code for opening the file can be rewritten as \n",
    "with open(\"populate.sql\") as f:\n",
    "    sql_contents=sql_file.readlines()"
   ]
  },
  {
   "cell_type": "code",
   "execution_count": 17,
   "metadata": {},
   "outputs": [
    {
     "data": {
      "text/plain": [
       "dict"
      ]
     },
     "execution_count": 17,
     "metadata": {},
     "output_type": "execute_result"
    }
   ],
   "source": [
    "#working with json #you have to convert the json which is a string to actual python data structure\n",
    "json_output='{\"name\": \"Alfredo\", \"data\": 1, \"valid\": true}'\n",
    "loaded_json=json.loads(json_output) #loads means load string\n",
    "type(loaded_json) #confirming its no more a string\n"
   ]
  },
  {
   "cell_type": "code",
   "execution_count": 25,
   "metadata": {},
   "outputs": [],
   "source": [
    "#saving data from python onto a disc\n",
    "import json\n",
    "data= {\"name\":\"Alfredo\", \"surname\":\"Deza\", \"valid\":True}\n",
    "with open(\"sample_data.jason\", \"w\") as f: #creating a file sample_data #w means write\n",
    "    json.dump(data, f) #here we use dump instead of dumps (s means string) to convert and save the data as .json"
   ]
  },
  {
   "cell_type": "code",
   "execution_count": null,
   "metadata": {},
   "outputs": [],
   "source": [
    "\n",
    "\n"
   ]
  },
  {
   "cell_type": "code",
   "execution_count": null,
   "metadata": {},
   "outputs": [],
   "source": []
  }
 ],
 "metadata": {
  "kernelspec": {
   "display_name": "Python 3",
   "language": "python",
   "name": "python3"
  },
  "language_info": {
   "codemirror_mode": {
    "name": "ipython",
    "version": 3
   },
   "file_extension": ".py",
   "mimetype": "text/x-python",
   "name": "python",
   "nbconvert_exporter": "python",
   "pygments_lexer": "ipython3",
   "version": "3.7.3"
  }
 },
 "nbformat": 4,
 "nbformat_minor": 2
}
