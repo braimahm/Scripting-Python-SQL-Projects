{
 "cells": [
  {
   "cell_type": "code",
   "execution_count": 39,
   "metadata": {},
   "outputs": [
    {
     "data": {
      "text/plain": [
       "[['Gina', 'Barnes'],\n",
       " ['Christopher', 'Peterson'],\n",
       " ['Nicolas', 'Stone'],\n",
       " ['Olivia', 'Costa'],\n",
       " ['Andrew', 'Hartman'],\n",
       " ['Donna', 'Hamilton'],\n",
       " ['Jessica', 'Dalton'],\n",
       " ['Kristen', 'Mills'],\n",
       " ['Christopher', 'Hall'],\n",
       " ['Crystal', 'Rogers'],\n",
       " ['Jacob', 'Thomas'],\n",
       " ['Rebecca', 'Rojas'],\n",
       " ['Jamie', 'Wang'],\n",
       " ['Teresa', 'Brown'],\n",
       " ['Michelle', 'Brock'],\n",
       " ['Amy', 'Obrien'],\n",
       " ['Jennifer', 'Krueger'],\n",
       " ['Thomas', 'Dixon'],\n",
       " ['Teresa', 'Johnson'],\n",
       " ['Gabriel', 'Ramirez'],\n",
       " ['Tamara', 'Wilson'],\n",
       " ['Theresa', 'Collins'],\n",
       " ['Christine', 'Davis'],\n",
       " ['William', 'Medina'],\n",
       " ['George', 'Rowe'],\n",
       " ['Krista', 'Martin'],\n",
       " ['Jeffrey', 'Harris'],\n",
       " ['Evelyn', 'Rios'],\n",
       " ['Michael', 'Flores'],\n",
       " ['Tiffany', 'Williams'],\n",
       " ['Michael', 'Mccormick'],\n",
       " ['Heather', 'Bennett'],\n",
       " ['Kristen', 'Porter'],\n",
       " ['Nicholas', 'Torres'],\n",
       " ['Linda', 'Flores'],\n",
       " ['Arthur', 'Ellis'],\n",
       " ['Victoria', 'King'],\n",
       " ['Christie', 'Washington'],\n",
       " ['Shelly', 'Contreras'],\n",
       " ['Glenn', 'Murphy'],\n",
       " ['Stephanie', 'Walker'],\n",
       " ['Stephanie', 'Johnson'],\n",
       " ['Vanessa', 'Thomas'],\n",
       " ['Megan', 'Welch'],\n",
       " ['Elizabeth', 'Meyers'],\n",
       " ['Joshua', 'Lynch'],\n",
       " ['Logan', 'Mcmahon'],\n",
       " ['Joseph', 'Brown'],\n",
       " ['Christopher', 'Hernandez'],\n",
       " ['Ryan', 'Nguyen'],\n",
       " ['Beth', 'Brown'],\n",
       " ['Shawn', 'Campbell'],\n",
       " ['Sarah', 'Heath'],\n",
       " ['Ashley', 'Cox'],\n",
       " ['John', 'Lopez'],\n",
       " ['Cassandra', 'Watson'],\n",
       " ['Gina', 'Chavez'],\n",
       " ['James', 'Cummings'],\n",
       " ['Steven', 'Wolf'],\n",
       " ['Briana', 'Garcia'],\n",
       " ['Michael', 'Benton'],\n",
       " ['Linda', 'Taylor'],\n",
       " ['Malik', 'Berry'],\n",
       " ['Joshua', 'Mcintosh'],\n",
       " ['Kayla', 'Nichols'],\n",
       " ['Kelsey', 'Bartlett'],\n",
       " ['Brian', 'Jackson'],\n",
       " ['Kristy', 'Thompson'],\n",
       " ['Jeremy', 'Anderson'],\n",
       " ['Susan', 'Vasquez'],\n",
       " ['Erin', 'Gilbert'],\n",
       " ['Richard', 'Martin'],\n",
       " ['Mckenzie', 'Collins'],\n",
       " ['Jessica', 'Hernandez'],\n",
       " ['Kristina', 'Cannon'],\n",
       " ['Tiffany', 'Reeves'],\n",
       " ['Christopher', 'Boyer'],\n",
       " ['Jason', 'Wilson'],\n",
       " ['Michael', 'Flores'],\n",
       " ['Joseph', 'Johnson'],\n",
       " ['Sherry', 'Adams'],\n",
       " ['Allison', 'Martinez'],\n",
       " ['Marco', 'Stafford'],\n",
       " ['Kyle', 'Orozco'],\n",
       " ['Savannah', 'Carrillo'],\n",
       " ['Gloria', 'Orozco'],\n",
       " ['Daniel', 'Hill'],\n",
       " ['Hunter', 'James'],\n",
       " ['Lisa', 'Arias'],\n",
       " ['Rick', 'Lyons'],\n",
       " ['Zachary', 'Griffin'],\n",
       " ['Andrea', 'Carpenter'],\n",
       " ['Brandon', 'Roberts'],\n",
       " ['Larry', 'Gonzales'],\n",
       " ['Johnny', 'Dorsey'],\n",
       " ['Kara', 'Johnson'],\n",
       " ['Douglas', 'Moses'],\n",
       " ['Jennifer', 'Phillips']]"
      ]
     },
     "execution_count": 39,
     "metadata": {},
     "output_type": "execute_result"
    }
   ],
   "source": [
    "from faker import Faker\n",
    "fake=Faker()\n",
    "names=[fake.name().split() for i in range(100)]\n",
    "names=[name for name in names if len(name)==2]\n",
    "names"
   ]
  },
  {
   "cell_type": "code",
   "execution_count": 42,
   "metadata": {},
   "outputs": [],
   "source": [
    "import sqlite3\n",
    "connection=sqlite3.connect(\"sample.db\") #creating a connection with the database"
   ]
  },
  {
   "cell_type": "code",
   "execution_count": 41,
   "metadata": {},
   "outputs": [],
   "source": [
    "insert_query= 'INSERT INTO people(name,surname) VALUES(?,?)'\n",
    "cursor=connection.cursor()\n",
    "for name in names:\n",
    "    cursor.execute(insert_query,name)\n",
    "\n",
    "connection.commit()\n",
    "\n",
    "    "
   ]
  },
  {
   "cell_type": "code",
   "execution_count": 44,
   "metadata": {},
   "outputs": [
    {
     "name": "stdout",
     "output_type": "stream",
     "text": [
      "(1, 'Brianna', 'Walker')\n",
      "(2, 'Randall', 'Krause')\n",
      "(3, 'Dustin', 'Garcia')\n",
      "(4, 'Joe', 'Green')\n",
      "(5, 'Jeffrey', 'Beck')\n",
      "(6, 'Charles', 'Smith')\n",
      "(7, 'Deborah', 'Rice')\n",
      "(8, 'Debra', 'Juarez')\n",
      "(9, 'Aaron', 'Higgins')\n",
      "(10, 'Clayton', 'Davidson')\n"
     ]
    }
   ],
   "source": [
    "select_query= \"SELECT *from people LIMIT 10\"\n",
    "for i in cursor.execute(select_query):\n",
    "    print(i)\n"
   ]
  },
  {
   "cell_type": "code",
   "execution_count": null,
   "metadata": {},
   "outputs": [],
   "source": []
  }
 ],
 "metadata": {
  "kernelspec": {
   "display_name": "Python 3",
   "language": "python",
   "name": "python3"
  },
  "language_info": {
   "codemirror_mode": {
    "name": "ipython",
    "version": 3
   },
   "file_extension": ".py",
   "mimetype": "text/x-python",
   "name": "python",
   "nbconvert_exporter": "python",
   "pygments_lexer": "ipython3",
   "version": "3.7.3"
  }
 },
 "nbformat": 4,
 "nbformat_minor": 2
}
